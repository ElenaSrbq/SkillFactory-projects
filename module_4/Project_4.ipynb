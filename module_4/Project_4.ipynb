{
 "cells": [
  {
   "cell_type": "markdown",
   "metadata": {},
   "source": [
    "## Задача \n",
    "-- выяснить, от каких самых малоприбыльных рейсов из Анапы мы можем отказаться в зимнее время. \n",
    "\n",
    "Исходя из того, что `прибыльность рейса` — это `разница между доходом от продаж билетов и расходом на полет`, соберите такой датасет, который позволит оценить эти цифры. \n",
    "\n",
    "Самая простая модель оценки прибыльности: `стоимость билетов - стоимость топлива на рейс` (для оценки последнего вам необходим километраж рейса или длительность полета), но вы можете предложить другую модель.\n",
    "\n",
    "Ваш датасет должен обязательно включать `id рейса` и `города вылета (Анапа)` и `прилета`. Он также  может включать такие данные, как модель самолёта и его характеристики, суммарную стоимость всех билетов на рейсе, затраченное время в полёте и прочее — на ваше усмотрение.\n"
   ]
  },
  {
   "cell_type": "code",
   "execution_count": null,
   "metadata": {},
   "outputs": [],
   "source": [
    "import pandas"
   ]
  },
  {
   "cell_type": "code",
   "execution_count": null,
   "metadata": {},
   "outputs": [],
   "source": []
  }
 ],
 "metadata": {
  "kernelspec": {
   "display_name": "Python 3",
   "language": "python",
   "name": "python3"
  },
  "language_info": {
   "codemirror_mode": {
    "name": "ipython",
    "version": 3
   },
   "file_extension": ".py",
   "mimetype": "text/x-python",
   "name": "python",
   "nbconvert_exporter": "python",
   "pygments_lexer": "ipython3",
   "version": "3.7.6"
  }
 },
 "nbformat": 4,
 "nbformat_minor": 4
}
