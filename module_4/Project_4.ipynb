{
 "cells": [
  {
   "cell_type": "markdown",
   "metadata": {},
   "source": [
    "## Задача \n",
    "-- выяснить, от каких самых малоприбыльных рейсов из Анапы мы можем отказаться в зимнее время. \n",
    "\n",
    "Исходя из того, что `прибыльность рейса` — это `разница между доходом от продаж билетов и расходом на полет`, соберите такой датасет, который позволит оценить эти цифры. \n",
    "\n",
    "Самая простая модель оценки прибыльности: `стоимость билетов - стоимость топлива на рейс` (для оценки последнего вам необходим километраж рейса или длительность полета), но вы можете предложить другую модель.\n",
    "\n",
    "Ваш датасет должен обязательно включать `id рейса` и `города вылета (Анапа)` и `прилета`. Он также  может включать такие данные, как модель самолёта и его характеристики, суммарную стоимость всех билетов на рейсе, затраченное время в полёте и прочее — на ваше усмотрение.\n"
   ]
  },
  {
   "cell_type": "code",
   "execution_count": null,
   "metadata": {},
   "outputs": [],
   "source": [
    "import pandas"
   ]
  },
  {
   "cell_type": "code",
   "execution_count": 1,
   "metadata": {},
   "outputs": [
    {
     "name": "stdout",
     "output_type": "stream",
     "text": [
      "Collecting package metadata (current_repodata.json): done\n",
      "Solving environment: / \n",
      "\n",
      "Updating mkl is constricted by \n",
      "\n",
      "anaconda -> requires mkl==2019.4=233\n",
      "\n",
      "If you are sure you want an update of your package either try `conda update --all` or install a specific version of the package you want using `conda install <pkg>=<version>`\n",
      "\n",
      "done\n",
      "\n",
      "## Package Plan ##\n",
      "\n",
      "  environment location: /Users/lyosik/opt/anaconda3\n",
      "\n",
      "  added / updated specs:\n",
      "    - mkl\n",
      "\n",
      "\n",
      "The following packages will be downloaded:\n",
      "\n",
      "    package                    |            build\n",
      "    ---------------------------|-----------------\n",
      "    backports.functools_lru_cache-1.6.1|     pyhd3eb1b0_0          12 KB\n",
      "    backports.tempfile-1.0     |     pyhd3eb1b0_1          11 KB\n",
      "    conda-4.9.2                |   py37hecd8cb5_0         2.9 MB\n",
      "    conda-package-handling-1.7.2|   py37h22f3db7_0         1.5 MB\n",
      "    ------------------------------------------------------------\n",
      "                                           Total:         4.4 MB\n",
      "\n",
      "The following packages will be UPDATED:\n",
      "\n",
      "  conda              conda-forge::conda-4.8.4-py37hc8dfbb8~ --> pkgs/main::conda-4.9.2-py37hecd8cb5_0\n",
      "  conda-package-han~                   1.6.0-py37h1de35cc_0 --> 1.7.2-py37h22f3db7_0\n",
      "\n",
      "The following packages will be DOWNGRADED:\n",
      "\n",
      "  backports.functoo~                             1.6.1-py_0 --> 1.6.1-pyhd3eb1b0_0\n",
      "  backports.tempfile                               1.0-py_1 --> 1.0-pyhd3eb1b0_1\n",
      "\n",
      "\n",
      "\n",
      "Downloading and Extracting Packages\n",
      "backports.tempfile-1 | 11 KB     | ##################################### | 100% \n",
      "conda-package-handli | 1.5 MB    | ##################################### | 100% \n",
      "backports.functools_ | 12 KB     | ##################################### | 100% \n",
      "conda-4.9.2          | 2.9 MB    | ##################################### | 100% \n",
      "Preparing transaction: done\n",
      "Verifying transaction: done\n",
      "Executing transaction: done\n",
      "\n",
      "Note: you may need to restart the kernel to use updated packages.\n"
     ]
    }
   ],
   "source": [
    "conda update mkl"
   ]
  },
  {
   "cell_type": "code",
   "execution_count": null,
   "metadata": {},
   "outputs": [],
   "source": []
  }
 ],
 "metadata": {
  "kernelspec": {
   "display_name": "Python 3",
   "language": "python",
   "name": "python3"
  },
  "language_info": {
   "codemirror_mode": {
    "name": "ipython",
    "version": 3
   },
   "file_extension": ".py",
   "mimetype": "text/x-python",
   "name": "python",
   "nbconvert_exporter": "python",
   "pygments_lexer": "ipython3",
   "version": "3.7.6"
  }
 },
 "nbformat": 4,
 "nbformat_minor": 4
}
